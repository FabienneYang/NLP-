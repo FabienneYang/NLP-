{
 "cells": [
  {
   "cell_type": "code",
   "execution_count": 8,
   "metadata": {},
   "outputs": [
    {
     "name": "stdout",
     "output_type": "stream",
     "text": [
      "['02', '27208889']\n",
      "['04', '2220', '3585']\n",
      "['06', '2991111']\n",
      "['07', '799', '5678']\n"
     ]
    }
   ],
   "source": [
    "import re\n",
    "number = ['02-27208889', '04-2220-3585', '(06)-2991111', '(07)799-5678']\n",
    "for num in number:\n",
    "    print(re.findall('\\d+', num))"
   ]
  },
  {
   "cell_type": "code",
   "execution_count": 12,
   "metadata": {},
   "outputs": [
    {
     "name": "stdout",
     "output_type": "stream",
     "text": [
      "Q146110887\n",
      "D187217314\n",
      "Q188367037\n"
     ]
    }
   ],
   "source": [
    "security = ['A121040176','L186856359','Z127598010','I114537095','D279884447',\n",
    "            'L186834359','D243736345','I114537095','Q146110887','D187217314','I114537095',\n",
    "            'Q243556025','Z127598010','H250077453','Q188367037']\n",
    "for num in security:\n",
    "    if re.match('^[HDQ]1', num):\n",
    "        print(num)"
   ]
  },
  {
   "cell_type": "code",
   "execution_count": 16,
   "metadata": {},
   "outputs": [
    {
     "name": "stdout",
     "output_type": "stream",
     "text": [
      "SaveTheWorld@hotmail.com\n",
      "zzzGroup@yahoo.com\n",
      "maythefourthwithyiu@starwars.com\n"
     ]
    }
   ],
   "source": [
    "mail = ['foobar@gmail.com','NoOneCareMe@gmail.com','SaveTheWorld@hotmail.com',\n",
    "        'zzzGroup@yahoo.com','eagle1963@gmail.com','maythefourthwithyiu@starwars.com']\n",
    "for gmail in mail:\n",
    "    if re.match('(.*)@(?!gmail)\\w+\\.com', gmail):\n",
    "        print(gmail)"
   ]
  },
  {
   "cell_type": "code",
   "execution_count": 26,
   "metadata": {},
   "outputs": [
    {
     "name": "stdout",
     "output_type": "stream",
     "text": [
      "['h1']\n",
      "['a']\n",
      "['div']\n",
      "['a']\n"
     ]
    }
   ],
   "source": [
    "html =['<h1>This is a header 1</h1>','<a>This is a hyperlink</a>',\n",
    "       \"<div class='test'>This is a text block</div>\",'<a href=\"https://regexisfun.com.tw/\">Learning Regular Expression</a>']\n",
    "\n",
    "for tag in html:\n",
    "    print(re.findall('(?<=</)\\w+', tag))"
   ]
  },
  {
   "cell_type": "code",
   "execution_count": 32,
   "metadata": {},
   "outputs": [
    {
     "name": "stdout",
     "output_type": "stream",
     "text": [
      "file_folderName_num.jpg\n",
      "IMG_003.gif\n",
      "foobar.jpg\n"
     ]
    }
   ],
   "source": [
    "files = ['.bash_profile','workShop.ai','file_folderName_num.jpg','favicon.png','IMG_002.png','IMG_003.gif',\n",
    "        'qoo.jpg.tmp','index.html','foobar.bmp','foobar.jpg','account.html','access.lock']\n",
    "\n",
    "for file in files:\n",
    "    if re.match('\\w+.(gif|jpg)$', file):\n",
    "        print(file)   "
   ]
  },
  {
   "cell_type": "code",
   "execution_count": 65,
   "metadata": {},
   "outputs": [
    {
     "name": "stdout",
     "output_type": "stream",
     "text": [
      "[('ftp', '', ''), ('', 'file_server.com', ''), ('', '', '21')]\n",
      "[('https', '', '')]\n",
      "[('file', '', ''), ('', 'localhost', ''), ('', '', '4200')]\n",
      "[('https', '', ''), ('', 's3cur3-server.com', ''), ('', '', '9999')]\n"
     ]
    }
   ],
   "source": [
    "urls = ['ftp://file_server.com:21/account/customers.xml','https://hengxiuxu.blogspot.tw/',\n",
    "        'file://localhost:4200','https://s3cur3-server.com:9999/']\n",
    "\n",
    "for url in urls:\n",
    "    print(re.findall('(\\w+)(?=:\\/\\/)|(?<=:\\/\\/)(.+):|(?<=:)(\\d+)', url))"
   ]
  }
 ],
 "metadata": {
  "kernelspec": {
   "display_name": "Python 3",
   "language": "python",
   "name": "python3"
  },
  "language_info": {
   "codemirror_mode": {
    "name": "ipython",
    "version": 3
   },
   "file_extension": ".py",
   "mimetype": "text/x-python",
   "name": "python",
   "nbconvert_exporter": "python",
   "pygments_lexer": "ipython3",
   "version": "3.7.0"
  }
 },
 "nbformat": 4,
 "nbformat_minor": 2
}
