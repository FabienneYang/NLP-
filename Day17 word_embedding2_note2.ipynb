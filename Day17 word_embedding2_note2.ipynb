{
 "cells": [
  {
   "cell_type": "code",
   "execution_count": 22,
   "metadata": {},
   "outputs": [
    {
     "name": "stdout",
     "output_type": "stream",
     "text": [
      "Processed corpus: [[1 5 4 6 3 5 2 0]] \n",
      " word2idx: {'.': 0, 'you': 1, 'hello': 2, 'i': 3, 'goodbye': 4, 'say': 5, 'and': 6} \n",
      " idx2word: {0: '.', 1: 'you', 2: 'hello', 3: 'i', 4: 'goodbye', 5: 'say', 6: 'and'}\n"
     ]
    }
   ],
   "source": [
    "# 字詞前處理\n",
    "# 在進行字詞向量化之前，我們需要針對文本資料進行前置處理，將文本資料分割成字詞(斷詞)**，再將分割後的字詞轉換成字詞ID清單**\n",
    "\n",
    "#導入會使用的library\n",
    "import re\n",
    "import numpy as np\n",
    "from typing import List\n",
    "\n",
    "#定義前處理函式\n",
    "def preprocess(corpus: List[str], only_word: bool = False):\n",
    "    '''Function to do preprocess of input corpus\n",
    "    Parameters\n",
    "    -----------\n",
    "    corpus: str\n",
    "        input corpus to be processed\n",
    "    only_word: bool\n",
    "        whether to filter out non-word\n",
    "    '''\n",
    "    word_dic = set()\n",
    "    processed_sentence = []\n",
    "    \n",
    "    for sentence in corpus:\n",
    "        #將所有字詞轉為小寫\n",
    "        sentence = sentence.lower()\n",
    "\n",
    "        #移除標點符號(可以依據使用狀況決定是否要移除標點符號)\n",
    "        if only_word:\n",
    "            pattern = r'[^\\W_]+'\n",
    "            sentence = re.findall(pattern, sentence)\n",
    "        else:\n",
    "            punctuation_list = ['.', ',', '!', '?']\n",
    "            for pun in punctuation_list:\n",
    "                sentence = sentence.replace(pun, ' '+pun)\n",
    "            sentence = sentence.split(' ')\n",
    "        \n",
    "        #添加字詞到字典中\n",
    "        word_dic |= set(sentence)\n",
    "        processed_sentence.append(sentence)\n",
    "    \n",
    "    \n",
    "    #建立字詞ID清單\n",
    "    word2idx = dict()\n",
    "    idx2word = dict()\n",
    "    for word in word_dic:\n",
    "        if word not in word2idx:\n",
    "            idx = len(word2idx)\n",
    "            word2idx[word] = idx\n",
    "            idx2word[idx] = word\n",
    "\n",
    "    #將文本轉為ID型式\n",
    "    id_mapping = lambda x: word2idx[x]\n",
    "    \n",
    "    corpus = np.array([list(map(id_mapping, sentence)) for sentence in processed_sentence])\n",
    "\n",
    "    return corpus, word2idx, idx2word\n",
    "\n",
    "#定義簡易文本資料(使用Ch17講義中的例子)\n",
    "corpus = ['You say goodbye and I say hello.']\n",
    "\n",
    "processed_corpus, word2idx, idx2word = preprocess(corpus)\n",
    "print(f'Processed corpus: {processed_corpus} \\n word2idx: {word2idx} \\n idx2word: {idx2word}')"
   ]
  },
  {
   "cell_type": "code",
   "execution_count": 2,
   "metadata": {},
   "outputs": [
    {
     "data": {
      "text/plain": [
       "array([[0, 0, 1, 0, 0, 1, 0],\n",
       "       [0, 0, 0, 0, 1, 1, 0],\n",
       "       [1, 0, 0, 1, 0, 1, 0],\n",
       "       [0, 0, 1, 0, 1, 1, 1],\n",
       "       [0, 1, 0, 1, 0, 1, 1],\n",
       "       [1, 1, 1, 1, 1, 0, 2],\n",
       "       [0, 0, 0, 1, 1, 2, 0]])"
      ]
     },
     "execution_count": 2,
     "metadata": {},
     "output_type": "execute_result"
    }
   ],
   "source": [
    "# 共現矩陣\n",
    "# 將轉化處理過的文本資料轉化為共現矩陣\n",
    "\n",
    "#定義共現矩陣函式\n",
    "def create_co_matrix(corpus: np.ndarray, vocab_size: int, window_size: int=1):\n",
    "    '''\n",
    "    '''\n",
    "    # initialize co-occurrence matrix\n",
    "    co_matrix = np.zeros(shape=(vocab_size, vocab_size), dtype=np.int32)\n",
    "    \n",
    "    for sentence in corpus:\n",
    "        sentence_size = len(sentence)\n",
    "    \n",
    "        for idx, word_id in enumerate(sentence):\n",
    "            for i in range(1, window_size+1):\n",
    "                left_idx = idx - i\n",
    "                right_idx = idx + i\n",
    "\n",
    "                if left_idx >= 0:\n",
    "                    left_word_id = sentence[left_idx]\n",
    "                    co_matrix[word_id, left_word_id] += 1\n",
    "\n",
    "                if right_idx < sentence_size:\n",
    "                    right_word_id = sentence[right_idx]\n",
    "                    co_matrix[word_id, right_word_id] += 1\n",
    "                \n",
    "    return co_matrix\n",
    "\n",
    "co_matrix = create_co_matrix(processed_corpus, len(word2idx), 2)\n",
    "co_matrix"
   ]
  },
  {
   "cell_type": "code",
   "execution_count": 15,
   "metadata": {},
   "outputs": [
    {
     "data": {
      "text/plain": [
       "array([[0, 0, 1, 0, 0, 1, 0],\n",
       "       [0, 0, 0, 0, 1, 1, 0],\n",
       "       [1, 0, 0, 1, 0, 1, 0],\n",
       "       [0, 0, 1, 0, 1, 1, 1],\n",
       "       [0, 1, 0, 1, 0, 1, 1],\n",
       "       [1, 1, 1, 1, 1, 0, 2],\n",
       "       [0, 0, 0, 1, 1, 2, 0]])"
      ]
     },
     "execution_count": 15,
     "metadata": {},
     "output_type": "execute_result"
    }
   ],
   "source": [
    "# 定義共現矩陣函式\n",
    "# method two\n",
    "\n",
    "def create_co_matrix(corpus: np.ndarray, vocab_size: int, window_size: int=1):\n",
    "    '''\n",
    "    '''\n",
    "    # initialize co-occurrence matrix\n",
    "    co_matrix = np.zeros(shape=(vocab_size, vocab_size), dtype=np.int32)\n",
    "    \n",
    "    for sentence in corpus:\n",
    "        sentence_size = len(sentence)\n",
    "    \n",
    "        for idx, word_id in enumerate(sentence):\n",
    "            left_idx = idx - window_size if idx - window_size >= 0 else 0\n",
    "            context_ids = sentence[left_idx:idx]\n",
    "            \n",
    "            for left_i, left_id in enumerate(context_ids):\n",
    "                co_matrix[word_id, left_id] += 1\n",
    "                co_matrix[left_id, word_id] += 1\n",
    "\n",
    "    return co_matrix\n",
    "\n",
    "co_matrix = create_co_matrix(processed_corpus, len(word2idx), 2)\n",
    "co_matrix"
   ]
  },
  {
   "cell_type": "code",
   "execution_count": 16,
   "metadata": {},
   "outputs": [
    {
     "data": {
      "text/plain": [
       "0.7071067726510136"
      ]
     },
     "execution_count": 16,
     "metadata": {},
     "output_type": "execute_result"
    }
   ],
   "source": [
    "# 向量間相似度\n",
    "# 比較轉換為向量的字詞的方法有很多種，其中當要表示字詞的相似度時，最常使用的方法為餘弦相似度 (Cosine Similarity)\n",
    "# 定義餘弦相似度\n",
    "def cos_similarity(x: np.ndarray, y: np.ndarray, eps: float=1e-8):\n",
    "    nx = x / (np.sqrt(np.sum(x**2)) + eps)\n",
    "    ny = y / (np.sqrt(np.sum(y**2)) + eps)\n",
    "    \n",
    "    return np.dot(nx,ny)\n",
    "\n",
    "# calculate the similarity between I and you\n",
    "cos_similarity(co_matrix[word2idx['i']], co_matrix[word2idx['you']])"
   ]
  },
  {
   "cell_type": "code",
   "execution_count": 4,
   "metadata": {},
   "outputs": [],
   "source": [
    "#建立可供查詢相似度的函數\n",
    "# 輸入字詞，查詢與此字詞top_n相似的結果\n",
    "def top_k_similarity(query: str, word2idx: dict, idx2word: dict, word_matrix: np.ndarray, top_k: int=3):\n",
    "    # handle the situation of query word not in corpus\n",
    "    if query not in word2idx:\n",
    "        raise ValueError(f\"{query} is not found in input dictionary\")\n",
    "        \n",
    "    print(f\"[query] : {query}\")\n",
    "    query_id = word2idx[query]\n",
    "    query_vec = word_matrix[query_id]\n",
    "    \n",
    "    # calculate cosine similarity\n",
    "    similarity_scores = np.zeros(len(word2idx))\n",
    "    for i in range(len(word2idx)):\n",
    "        similarity_scores[i] = cos_similarity(query_vec, word_matrix[i])\n",
    "\n",
    "    # remove query word\n",
    "    similarity_scores = np.delete(similarity_scores, query_id)\n",
    "    filter_word2idx = dict([(k, v) for k, v in word2idx.items() if k != query])\n",
    "    filter_idx2word = dict([(k, v) for k, v in idx2word.items() if k != query_id])\n",
    "    \n",
    "    # sorting by similarity score\n",
    "    top_k_idx = (-similarity_scores).argsort()[:top_k]\n",
    "    top_k_word = [filter_idx2word[word_idx] for word_idx in filter_idx2word]\n",
    "    \n",
    "    return dict(zip(top_k_word, similarity_scores[top_k_idx]))"
   ]
  },
  {
   "cell_type": "code",
   "execution_count": 17,
   "metadata": {},
   "outputs": [
    {
     "name": "stdout",
     "output_type": "stream",
     "text": [
      "[query] : you\n"
     ]
    },
    {
     "data": {
      "text/plain": [
       "{'.': 0.8660253941251803,\n",
       " 'hello': 0.7071067726510136,\n",
       " 'i': 0.49999999292893216}"
      ]
     },
     "execution_count": 17,
     "metadata": {},
     "output_type": "execute_result"
    }
   ],
   "source": [
    "top_k_similarity('you', word2idx, idx2word, co_matrix, 3)"
   ]
  },
  {
   "cell_type": "code",
   "execution_count": 7,
   "metadata": {},
   "outputs": [],
   "source": [
    "#定義正向點間互資訊\n",
    "\n",
    "def ppmi(co_matrix: np.ndarray, eps: float=1e-8, verbose: bool=False):\n",
    "    M = np.zeros_like(co_matrix, dtype=np.float32)\n",
    "    N = np.sum(co_matrix)\n",
    "    S = np.sum(co_matrix, axis=0)\n",
    "    total = co_matrix.shape[0]*co_matrix.shape[1]\n",
    "\n",
    "    cnt = 0\n",
    "    \n",
    "    for i in range(co_matrix.shape[0]):\n",
    "        for j in range(co_matrix.shape[1]):\n",
    "            pmi = np.log2(co_matrix[i, j]*N / (S[i]*S[j] + eps))\n",
    "            M[i, j] = max(0, pmi)\n",
    "            \n",
    "            if verbose:\n",
    "                cnt += 1\n",
    "                if cnt % 10 == 0 or cnt == total:\n",
    "                    print(f\"{cnt}/{total} Done\")\n",
    "    \n",
    "    return M"
   ]
  },
  {
   "cell_type": "code",
   "execution_count": 8,
   "metadata": {},
   "outputs": [
    {
     "name": "stdout",
     "output_type": "stream",
     "text": [
      "10/49 Done\n",
      "20/49 Done\n",
      "30/49 Done\n",
      "40/49 Done\n",
      "49/49 Done\n"
     ]
    },
    {
     "name": "stderr",
     "output_type": "stream",
     "text": [
      "C:\\ProgramData\\Anaconda3\\lib\\site-packages\\ipykernel_launcher.py:13: RuntimeWarning: divide by zero encountered in log2\n",
      "  del sys.path[0]\n"
     ]
    },
    {
     "data": {
      "text/plain": [
       "array([[0.       , 0.       , 2.1154773, 0.       , 0.       , 0.8930848,\n",
       "        0.       ],\n",
       "       [0.       , 0.       , 0.       , 0.       , 1.7004397, 0.8930848,\n",
       "        0.       ],\n",
       "       [2.1154773, 0.       , 0.       , 1.1154772, 0.       , 0.3081223,\n",
       "        0.       ],\n",
       "       [0.       , 0.       , 1.1154772, 0.       , 0.7004397, 0.       ,\n",
       "        0.7004397],\n",
       "       [0.       , 1.7004397, 0.       , 0.7004397, 0.       , 0.       ,\n",
       "        0.7004397],\n",
       "       [0.8930848, 0.8930848, 0.3081223, 0.       , 0.       , 0.       ,\n",
       "        0.8930848],\n",
       "       [0.       , 0.       , 0.       , 0.7004397, 0.7004397, 0.8930848,\n",
       "        0.       ]], dtype=float32)"
      ]
     },
     "execution_count": 8,
     "metadata": {},
     "output_type": "execute_result"
    }
   ],
   "source": [
    "output_ppmi = ppmi(co_matrix, verbose=True)\n",
    "output_ppmi"
   ]
  },
  {
   "cell_type": "code",
   "execution_count": 9,
   "metadata": {},
   "outputs": [
    {
     "name": "stdout",
     "output_type": "stream",
     "text": [
      "hello in co-occurrence matrix: [0 0 1 0 0 1 0]\n",
      "hello in PPMI: [0.        0.        2.1154773 0.        0.        0.8930848 0.       ]\n",
      "hello in SVD: [-0.48203    -0.56445074 -0.26282662  0.430857    0.33953863 -0.2642201\n",
      " -0.09606315]\n"
     ]
    }
   ],
   "source": [
    "# 使用np的linalg.svd對PPMI矩陣進行奇異值分解\n",
    "\n",
    "# SVD\n",
    "U, S, V = np.linalg.svd(output_ppmi)\n",
    "\n",
    "# 使用SVD將將原本的稀疏向量轉變為稠密向量\n",
    "print(f'hello in co-occurrence matrix: {co_matrix[0]}')\n",
    "print(f\"hello in PPMI: {output_ppmi[0]}\")\n",
    "print(f\"hello in SVD: {U[0]}\")"
   ]
  },
  {
   "cell_type": "code",
   "execution_count": 10,
   "metadata": {},
   "outputs": [
    {
     "name": "stdout",
     "output_type": "stream",
     "text": [
      "[[-1.76178805e-08 -6.68377638e-08  2.11547732e+00  1.77927717e-08\n",
      "  -5.17287262e-08  8.93084824e-01 -5.30116395e-08]\n",
      " [-7.11651316e-09  1.92635028e-08 -4.49460344e-08  1.34603795e-08\n",
      "   1.70043969e+00  8.93084764e-01  1.45025325e-09]\n",
      " [ 2.11547732e+00 -4.88651040e-08 -3.03451451e-08  1.11547709e+00\n",
      "   1.45353560e-08  3.08122247e-01 -5.35544444e-08]\n",
      " [ 1.78285688e-08  1.35580214e-08  1.11547709e+00  1.23703447e-08\n",
      "   7.00439751e-01  1.72256680e-08  7.00439632e-01]\n",
      " [-3.84810370e-08  1.70043981e+00 -4.64926551e-08  7.00439751e-01\n",
      "   6.17670821e-08  1.91322336e-09  7.00439692e-01]\n",
      " [ 8.93084824e-01  8.93084764e-01  3.08122218e-01 -2.37586200e-08\n",
      "   4.47104114e-08  2.52935042e-08  8.93084824e-01]\n",
      " [-5.40167093e-08 -4.47034836e-08 -4.84287739e-08  7.00439632e-01\n",
      "   7.00439632e-01  8.93084884e-01 -1.49011612e-08]]\n",
      "[[0.        0.        2.1154773 0.        0.        0.8930848 0.       ]\n",
      " [0.        0.        0.        0.        1.7004397 0.8930848 0.       ]\n",
      " [2.1154773 0.        0.        1.1154772 0.        0.3081223 0.       ]\n",
      " [0.        0.        1.1154772 0.        0.7004397 0.        0.7004397]\n",
      " [0.        1.7004397 0.        0.7004397 0.        0.        0.7004397]\n",
      " [0.8930848 0.8930848 0.3081223 0.        0.        0.        0.8930848]\n",
      " [0.        0.        0.        0.7004397 0.7004397 0.8930848 0.       ]]\n"
     ]
    }
   ],
   "source": [
    "# 檢查分解是否正確\n",
    "A = U @ np.diag(S) @ V\n",
    "print(A)\n",
    "print(output_ppmi)\n",
    "# 可以發先做完SVD得結果跟原來的output_ppmi是相同的"
   ]
  },
  {
   "cell_type": "code",
   "execution_count": 11,
   "metadata": {},
   "outputs": [
    {
     "name": "stdout",
     "output_type": "stream",
     "text": [
      "[2.9371588  2.5547988  2.1101685  1.9556583  1.1257027  0.58972406\n",
      " 0.30812874]\n"
     ]
    },
    {
     "data": {
      "text/plain": [
       "array([[-0.48203   , -0.56445074, -0.26282662,  0.430857  ,  0.33953863,\n",
       "        -0.2642201 ],\n",
       "       [-0.29432744, -0.29746115,  0.5294562 , -0.511355  , -0.22169203,\n",
       "        -0.35262936],\n",
       "       [-0.5126197 ,  0.5698161 ,  0.39725903,  0.4323913 ,  0.01054526,\n",
       "         0.124419  ],\n",
       "       [-0.33312967, -0.30777904, -0.16466641, -0.03673923, -0.5294517 ,\n",
       "         0.6964652 ],\n",
       "       [-0.31352073,  0.30776063, -0.48896635, -0.5457005 ,  0.38465765,\n",
       "         0.12412582],\n",
       "       [-0.3710324 ,  0.26495245, -0.31999645, -0.0807369 , -0.45295563,\n",
       "        -0.4691856 ],\n",
       "       [-0.26702777, -0.09261478,  0.3523957 , -0.24547683,  0.44945022,\n",
       "         0.26410997]], dtype=float32)"
      ]
     },
     "execution_count": 11,
     "metadata": {},
     "output_type": "execute_result"
    }
   ],
   "source": [
    "# 可以發現前六個奇異值就佔了絕大多數的奇異值\n",
    "print(S)\n",
    "\n",
    "# 可以取前六個維度當作降為的詞向量\n",
    "U_reduce = U[:, 0:6]\n",
    "U_reduce"
   ]
  },
  {
   "cell_type": "code",
   "execution_count": 14,
   "metadata": {},
   "outputs": [
    {
     "data": {
      "image/png": "[encoded data removed]",
      "text/plain": [
       "<Figure size 432x288 with 1 Axes>"
      ]
     },
     "metadata": {
      "needs_background": "light"
     },
     "output_type": "display_data"
    }
   ],
   "source": [
    "import matplotlib.pyplot as plt\n",
    "\n",
    "# 將詞向量降為二維方便視覺化\n",
    "U_visualization = U[:, 0:2]\n",
    "\n",
    "# visualization\n",
    "for word, word_id in word2idx.items():\n",
    "    plt.annotate(word, (U_reduce[word_id, 0], U_reduce[word_id, 1]))\n",
    "    \n",
    "plt.scatter(U_reduce[:, 0], U_reduce[:, 1], alpha=0.5)\n",
    "#plt.axis(\"off\")\n",
    "plt.tight_layout(pad=0)\n",
    "#顯示用\n",
    "plt.show()"
   ]
  }
 ],
 "metadata": {
  "kernelspec": {
   "display_name": "Python 3",
   "language": "python",
   "name": "python3"
  },
  "language_info": {
   "codemirror_mode": {
    "name": "ipython",
    "version": 3
   },
   "file_extension": ".py",
   "mimetype": "text/x-python",
   "name": "python",
   "nbconvert_exporter": "python",
   "pygments_lexer": "ipython3",
   "version": "3.7.0"
  }
 },
 "nbformat": 4,
 "nbformat_minor": 2
}
