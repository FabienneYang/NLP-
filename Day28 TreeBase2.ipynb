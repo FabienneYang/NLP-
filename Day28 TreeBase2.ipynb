{
 "cells": [
  {
   "cell_type": "markdown",
   "metadata": {},
   "source": [
    "作業目的: 使用樹型模型進行文章分類\n",
    "\n",
    "本次作業主利用Amazon Review data中的All Beauty來進行review評價分類(文章分類)\n",
    "\n",
    "資料中將review分為1,2,3,4,5分，而在這份作業，我們將評論改分為差評價、普通評價、優良評價(1,2-->1差評、3-->2普通評價、4,5-->3優良評價)"
   ]
  },
  {
   "cell_type": "code",
   "execution_count": 3,
   "metadata": {
    "collapsed": true
   },
   "outputs": [],
   "source": [
    "import json\n",
    "import re\n",
    "from sklearn.tree import DecisionTreeClassifier\n",
    "from sklearn.ensemble import AdaBoostClassifier, RandomForestClassifier\n",
    "from sklearn.metrics import classification_report, confusion_matrix\n",
    "from sklearn.model_selection import train_test_split\n",
    "from sklearn.feature_extraction.text import CountVectorizer, TfidfVectorizer, TfidfTransformer"
   ]
  },
  {
   "cell_type": "markdown",
   "metadata": {},
   "source": [
    "資料前處理\n",
    "文本資料較為龐大，這裡我們取前10000筆資料來進行作業練習"
   ]
  },
  {
   "cell_type": "code",
   "execution_count": 4,
   "metadata": {
    "collapsed": false
   },
   "outputs": [
    {
     "data": {
      "text/plain": [
       "{'asin': '0143026860',\n",
       " 'overall': 1.0,\n",
       " 'reviewText': 'great',\n",
       " 'reviewTime': '02 19, 2015',\n",
       " 'reviewerID': 'A1V6B6TNIC10QE',\n",
       " 'reviewerName': 'theodore j bigham',\n",
       " 'summary': 'One Star',\n",
       " 'unixReviewTime': 1424304000,\n",
       " 'verified': True}"
      ]
     },
     "execution_count": 4,
     "metadata": {},
     "output_type": "execute_result"
    }
   ],
   "source": [
    "#load json data\n",
    "all_reviews = []\n",
    "with open('All_Beauty.json', encoding='utf-8') as f:\n",
    "    for review in f:\n",
    "        all_reviews.append(json.loads(review))\n",
    "        \n",
    "all_reviews[0]"
   ]
  },
  {
   "cell_type": "code",
   "execution_count": 5,
   "metadata": {
    "collapsed": false
   },
   "outputs": [],
   "source": [
    "#parse label(overall) and corpus(reviewText)\n",
    "corpus = []\n",
    "labels = []\n",
    "\n",
    "for i in range(10000):\n",
    "    if 'overall' not in all_reviews[i] or 'reviewText' not in all_reviews[i]:\n",
    "        continue\n",
    "        #continue 強制跳出本次迴圈\n",
    "    corpus.append(all_reviews[i]['reviewText'])\n",
    "    labels.append(all_reviews[i]['overall'])\n",
    "    \n",
    "#transform labels: 1,2 --> 1 and 3 --> 2 and 4,5 --> 3\n",
    "label_map = {1: 1, 2: 1, 3: 2, 4: 3, 5: 3}\n",
    "labels = [label_map[int(label)] for label in labels]"
   ]
  },
  {
   "cell_type": "code",
   "execution_count": 11,
   "metadata": {
    "collapsed": false
   },
   "outputs": [],
   "source": [
    "#preprocessing data\n",
    "#remove email address, punctuations, and change line symbol(\\n)\n",
    "import string\n",
    "\n",
    "for corpu in corpus:\n",
    "    pattern = re.compile('\\S*@\\S*\\s?')\n",
    "    pattern.sub('', corpu)\n",
    "    corpu = (corpu.strip()).translate(str.maketrans('', '', string.punctuation))"
   ]
  },
  {
   "cell_type": "code",
   "execution_count": 12,
   "metadata": {
    "collapsed": false
   },
   "outputs": [
    {
     "data": {
      "text/plain": [
       "(7996, 1999, 7996, 1999)"
      ]
     },
     "execution_count": 12,
     "metadata": {},
     "output_type": "execute_result"
    }
   ],
   "source": [
    "#split corpus and label into train and test\n",
    "\n",
    "x_train, x_test, y_train, y_test = train_test_split(corpus, labels, test_size=0.2, random_state=0, shuffle=True)\n",
    "len(x_train), len(x_test), len(y_train), len(y_test)"
   ]
  },
  {
   "cell_type": "code",
   "execution_count": 13,
   "metadata": {
    "collapsed": true
   },
   "outputs": [],
   "source": [
    "#change corpus into vector\n",
    "#you can use tfidf or BoW here\n",
    "\n",
    "vectorizer = TfidfVectorizer()\n",
    "vectorizer.fit(x_train)\n",
    "\n",
    "#transform training and testing corpus into vector form\n",
    "x_train = vectorizer.transform(x_train)\n",
    "x_test = vectorizer.transform(x_test)"
   ]
  },
  {
   "cell_type": "code",
   "execution_count": 15,
   "metadata": {
    "collapsed": false
   },
   "outputs": [
    {
     "data": {
      "text/plain": [
       "DecisionTreeClassifier(ccp_alpha=0.0, class_weight=None, criterion='entropy',\n",
       "                       max_depth=6, max_features=None, max_leaf_nodes=None,\n",
       "                       min_impurity_decrease=0.0, min_impurity_split=None,\n",
       "                       min_samples_leaf=5, min_samples_split=10,\n",
       "                       min_weight_fraction_leaf=0.0, presort='deprecated',\n",
       "                       random_state=None, splitter='best')"
      ]
     },
     "execution_count": 15,
     "metadata": {},
     "output_type": "execute_result"
    }
   ],
   "source": [
    "#訓練與預測\n",
    "#build classification model (decision tree, random forest, or adaboost)\n",
    "#start training\n",
    "\n",
    "#建立決策樹模型\n",
    "decision_tree_cls = DecisionTreeClassifier(criterion='entropy', max_depth=6,\n",
    "                                           min_samples_split=10, min_samples_leaf=5)\n",
    "\n",
    "#使用決策樹模型進行訓練\n",
    "decision_tree_cls.fit(x_train, y_train)"
   ]
  },
  {
   "cell_type": "code",
   "execution_count": 16,
   "metadata": {
    "collapsed": true
   },
   "outputs": [],
   "source": [
    "#start inference\n",
    "#以訓練好的決策樹進行預測\n",
    "y_pred = decision_tree_cls.predict(x_test)"
   ]
  },
  {
   "cell_type": "code",
   "execution_count": 18,
   "metadata": {
    "collapsed": false
   },
   "outputs": [
    {
     "name": "stdout",
     "output_type": "stream",
     "text": [
      "Accuracy: 0.9019509754877438\n"
     ]
    }
   ],
   "source": [
    "#calculate accuracy\n",
    "print (\"Accuracy: {}\".format(decision_tree_cls.score(x_test,y_test)))"
   ]
  },
  {
   "cell_type": "code",
   "execution_count": 19,
   "metadata": {
    "collapsed": false
   },
   "outputs": [
    {
     "name": "stdout",
     "output_type": "stream",
     "text": [
      "              precision    recall  f1-score   support\n",
      "\n",
      "           1       0.65      0.18      0.28       134\n",
      "           2       0.14      0.01      0.03        73\n",
      "           3       0.91      0.99      0.95      1792\n",
      "\n",
      "    accuracy                           0.90      1999\n",
      "   macro avg       0.57      0.39      0.42      1999\n",
      "weighted avg       0.86      0.90      0.87      1999\n",
      "\n",
      "[[  24    4  106]\n",
      " [   1    1   71]\n",
      " [  12    2 1778]]\n"
     ]
    }
   ],
   "source": [
    "#calculate confusion matrix, precision, recall, and f1-score\n",
    "print(classification_report(y_test, y_pred))\n",
    "print(confusion_matrix(y_test, y_pred))"
   ]
  },
  {
   "cell_type": "markdown",
   "metadata": {},
   "source": [
    "由上述資訊可以發現, 模型在好評的準確度高(precision, recall都高), 而在差評的部分表現較不理想, 在普通評價的部分大部分跟差評搞混, 同學可以試著學習到的各種方法來提升模型的表現"
   ]
  }
 ],
 "metadata": {
  "anaconda-cloud": {},
  "kernelspec": {
   "display_name": "Python [conda root]",
   "language": "python",
   "name": "conda-root-py"
  },
  "language_info": {
   "codemirror_mode": {
    "name": "ipython",
    "version": 3
   },
   "file_extension": ".py",
   "mimetype": "text/x-python",
   "name": "python",
   "nbconvert_exporter": "python",
   "pygments_lexer": "ipython3",
   "version": "3.5.2"
  }
 },
 "nbformat": 4,
 "nbformat_minor": 1
}
