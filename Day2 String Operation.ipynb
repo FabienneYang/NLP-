{
 "cells": [
  {
   "cell_type": "code",
   "execution_count": 1,
   "metadata": {},
   "outputs": [],
   "source": [
    "test_string = ['5.9', '30', '½', '³', '⑬']"
   ]
  },
  {
   "cell_type": "code",
   "execution_count": 2,
   "metadata": {},
   "outputs": [
    {
     "name": "stdout",
     "output_type": "stream",
     "text": [
      "isnumeric_count: 4\n",
      "isdigit_count: 2\n",
      "isdecimal_count: 1\n"
     ]
    }
   ],
   "source": [
    "#def spam(s, isnumeric_count, isdigit_count, isdecimal_count):\n",
    "#    for attr in ['isnumeric', 'isdecimal', 'isdigit']:\n",
    "isnumeric_count = 0\n",
    "isdigit_count = 0\n",
    "isdecimal_count = 0\n",
    "\n",
    "for item in test_string:\n",
    "    if item.isnumeric():\n",
    "        isnumeric_count += 1\n",
    "    if item.isdecimal():\n",
    "        isdecimal_count += 1\n",
    "    if item.isdigit():\n",
    "        isdigit_count += 1\n",
    "\n",
    "\n",
    "print('isnumeric_count: {}'.format(isnumeric_count))     \n",
    "print('isdigit_count: {}'.format(isdigit_count))     \n",
    "print('isdecimal_count: {}'.format(isdecimal_count))  "
   ]
  },
  {
   "cell_type": "code",
   "execution_count": 12,
   "metadata": {},
   "outputs": [
    {
     "name": "stdout",
     "output_type": "stream",
     "text": [
      "Accuracy: 98.13% , Recall: 94.88% , Precision: 96.29%\n"
     ]
    }
   ],
   "source": [
    "accuracy = 98.129393\n",
    "recall =   94.879583\n",
    "precision =96.294821\n",
    "#Accuracy: 98.13%, Recall: 94.88%, Precision: 96.29%\n",
    "print('Accuracy: {:.2f}%'.format(accuracy), ', Recall: {:.2f}%'.format(recall), ', Precision: {:.2f}%'.format(precision) )"
   ]
  },
  {
   "cell_type": "code",
   "execution_count": 14,
   "metadata": {},
   "outputs": [
    {
     "name": "stdout",
     "output_type": "stream",
     "text": [
      "Accuracy: 98.13% , Recall: 94.88% , Precision: 96.29%\n"
     ]
    }
   ],
   "source": [
    "accuracy = 0.98129393\n",
    "recall =   0.94879583\n",
    "precision =0.96294821\n",
    "#Accuracy: 98.13%, Recall: 94.88%, Precision: 96.29%\n",
    "\n",
    "print('Accuracy: {:.2%}'.format(accuracy), ', Recall: {:.2%}'.format(recall), ', Precision: {:.2%}'.format(precision))"
   ]
  },
  {
   "cell_type": "code",
   "execution_count": 30,
   "metadata": {},
   "outputs": [
    {
     "name": "stdout",
     "output_type": "stream",
     "text": [
      "3.14e+00\n",
      "3.14e+00\n"
     ]
    }
   ],
   "source": [
    "number = 3.1415926\n",
    "#'3.14e+00'\n",
    "print('{:.2e}'.format(number))\n",
    "\n",
    "print('%.2e' % number)"
   ]
  },
  {
   "cell_type": "code",
   "execution_count": 34,
   "metadata": {},
   "outputs": [
    {
     "data": {
      "text/plain": [
       "'314.16%'"
      ]
     },
     "execution_count": 34,
     "metadata": {},
     "output_type": "execute_result"
    }
   ],
   "source": [
    "#'314.16%'\n",
    "number = 3.1415926\n",
    "'{:.2%}'.format(number)"
   ]
  },
  {
   "cell_type": "code",
   "execution_count": 45,
   "metadata": {},
   "outputs": [
    {
     "data": {
      "text/plain": [
       "'3.14159300'"
      ]
     },
     "execution_count": 45,
     "metadata": {},
     "output_type": "execute_result"
    }
   ],
   "source": [
    "#'3.14159300'\n",
    "'{:0<10f}'.format(number)"
   ]
  }
 ],
 "metadata": {
  "kernelspec": {
   "display_name": "Python 3",
   "language": "python",
   "name": "python3"
  },
  "language_info": {
   "codemirror_mode": {
    "name": "ipython",
    "version": 3
   },
   "file_extension": ".py",
   "mimetype": "text/x-python",
   "name": "python",
   "nbconvert_exporter": "python",
   "pygments_lexer": "ipython3",
   "version": "3.7.0"
  }
 },
 "nbformat": 4,
 "nbformat_minor": 2
}
