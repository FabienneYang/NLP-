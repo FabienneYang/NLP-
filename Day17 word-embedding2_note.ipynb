{
 "cells": [
  {
   "cell_type": "code",
   "execution_count": 2,
   "metadata": {},
   "outputs": [
    {
     "name": "stdout",
     "output_type": "stream",
     "text": [
      "[['you', 'say', 'goodbye', 'and', 'i', 'say', 'hello']]\n"
     ]
    }
   ],
   "source": [
    "import re\n",
    "import numpy as np\n",
    "from typing import List\n",
    "\n",
    "#定義簡易文本資料\n",
    "corpus = ['You say goodbye and I say hello.']\n",
    "\n",
    "word_dic = set()\n",
    "processed_sentence = []\n",
    "    \n",
    "for sentence in corpus:\n",
    "    #將所有字詞轉為小寫\n",
    "    sentence = sentence.lower()\n",
    "\n",
    "    #移除標點符號(可以依據使用狀況決定是否要移除標點符號)\n",
    "    pattern = r'[^\\W_]+'\n",
    "    sentence = re.findall(pattern, sentence)      \n",
    "\n",
    "    #添加字詞到字典中\n",
    "    word_dic |= set(sentence)\n",
    "    processed_sentence.append(sentence)\n",
    "\n",
    "print(processed_sentence)"
   ]
  },
  {
   "cell_type": "code",
   "execution_count": 3,
   "metadata": {},
   "outputs": [
    {
     "name": "stdout",
     "output_type": "stream",
     "text": [
      "[[2 1 4 3 5 1 0]]\n",
      "{'hello': 0, 'say': 1, 'you': 2, 'and': 3, 'goodbye': 4, 'i': 5}\n",
      "{0: 'hello', 1: 'say', 2: 'you', 3: 'and', 4: 'goodbye', 5: 'i'}\n"
     ]
    }
   ],
   "source": [
    "#建立字詞ID清單\n",
    "word2idx = dict()\n",
    "idx2word = dict()\n",
    "for word in word_dic:\n",
    "    if word not in word2idx:\n",
    "        idx = len(word2idx)\n",
    "        word2idx[word] = idx\n",
    "        idx2word[idx] = word\n",
    "\n",
    "#將文本轉為ID型式\n",
    "id_mapping = lambda x: word2idx[x]\n",
    "corpus = np.array([list(map(id_mapping, sentence)) for sentence in processed_sentence])\n",
    "\n",
    "print(corpus)\n",
    "print(word2idx)\n",
    "print(idx2word)"
   ]
  },
  {
   "cell_type": "code",
   "execution_count": 4,
   "metadata": {},
   "outputs": [
    {
     "name": "stdout",
     "output_type": "stream",
     "text": [
      "[[0 1 0 0 0 0]\n",
      " [1 0 1 0 1 1]\n",
      " [0 1 0 0 0 0]\n",
      " [0 0 0 0 1 1]\n",
      " [0 1 0 1 0 0]\n",
      " [0 1 0 1 0 0]]\n"
     ]
    }
   ],
   "source": [
    "# 共現矩陣\n",
    "# 將轉化處理過的文本資料轉化為共現矩陣（字詞向量化）\n",
    "# 以 window 為 1 建立共現矩陣\n",
    "\n",
    "#定義共現矩陣函式\n",
    "vocab_size = len(word2idx)\n",
    "window_size = 1\n",
    "\n",
    "# initialize co-occurrence matrix\n",
    "co_matrix = np.zeros(shape=(vocab_size, vocab_size), dtype=np.int32)\n",
    "    \n",
    "for sentence in corpus:\n",
    "    sentence_size = len(sentence)\n",
    "    \n",
    "    for idx, word_id in enumerate(sentence):\n",
    "        for i in range(1, window_size+1):\n",
    "            left_idx = idx - i\n",
    "            right_idx = idx + i\n",
    "        if left_idx >= 0:\n",
    "            left_word_id = sentence[left_idx]\n",
    "            co_matrix[word_id, left_word_id] += 1\n",
    "\n",
    "        if right_idx < sentence_size:\n",
    "            right_word_id = sentence[right_idx]\n",
    "            co_matrix[word_id, right_word_id] += 1\n",
    "\n",
    "            \n",
    "print(co_matrix)"
   ]
  },
  {
   "cell_type": "code",
   "execution_count": 5,
   "metadata": {},
   "outputs": [
    {
     "data": {
      "text/plain": [
       "0.7071067691154799"
      ]
     },
     "execution_count": 5,
     "metadata": {},
     "output_type": "execute_result"
    }
   ],
   "source": [
    "#計算 ’i’ 與 ‘you’ 的字詞相似度\n",
    "# 定義餘弦相似度\n",
    "def cos_similarity(x: np.ndarray, y: np.ndarray, eps: float=1e-8):\n",
    "    nx = x / (np.sqrt(np.sum(x**2)) + eps)\n",
    "    ny = y / (np.sqrt(np.sum(y**2)) + eps)\n",
    "    \n",
    "    return np.dot(nx,ny)\n",
    "\n",
    "# calculate the similarity between I and you\n",
    "cos_similarity(co_matrix[word2idx['i']], co_matrix[word2idx['you']])"
   ]
  },
  {
   "cell_type": "code",
   "execution_count": 6,
   "metadata": {},
   "outputs": [
    {
     "name": "stdout",
     "output_type": "stream",
     "text": [
      "[[0.        1.5849625 0.        0.        0.        0.       ]\n",
      " [1.5849625 0.        1.5849625 0.        0.5849625 0.5849625]\n",
      " [0.        1.5849625 0.        0.        0.        0.       ]\n",
      " [0.        0.        0.        0.        1.5849625 1.5849625]\n",
      " [0.        0.5849625 0.        1.5849625 0.        0.       ]\n",
      " [0.        0.5849625 0.        1.5849625 0.        0.       ]]\n"
     ]
    },
    {
     "name": "stderr",
     "output_type": "stream",
     "text": [
      "C:\\ProgramData\\Anaconda3\\lib\\site-packages\\ipykernel_launcher.py:9: RuntimeWarning: divide by zero encountered in log2\n",
      "  if __name__ == '__main__':\n"
     ]
    }
   ],
   "source": [
    "#正向點間互資訊(PPMI)\n",
    "M = np.zeros_like(co_matrix, dtype=np.float32)\n",
    "N = np.sum(co_matrix)\n",
    "S = np.sum(co_matrix, axis=0)\n",
    "total = co_matrix.shape[0]*co_matrix.shape[1]\n",
    "    \n",
    "for i in range(co_matrix.shape[0]):\n",
    "    for j in range(co_matrix.shape[1]):\n",
    "        pmi = np.log2(co_matrix[i, j]*N / (S[i]*S[j]))\n",
    "        M[i, j] = max(0, pmi)\n",
    "\n",
    "print(M)"
   ]
  },
  {
   "cell_type": "code",
   "execution_count": 8,
   "metadata": {},
   "outputs": [
    {
     "name": "stdout",
     "output_type": "stream",
     "text": [
      "hello in co-occurrence matrix: [0 1 0 0 0 0]\n",
      "hello in PPMI: [0.        1.5849625 0.        0.        0.        0.       ]\n",
      "hello in SVD: [-4.5236292e-01  0.0000000e+00 -5.4347748e-01  1.1102230e-16\n",
      " -7.0710677e-01  8.7396489e-17]\n"
     ]
    }
   ],
   "source": [
    "# 使用np的linalg.svd對PPMI矩陣進行奇異值分解\n",
    "\n",
    "# SVD\n",
    "U, S, V = np.linalg.svd(M)\n",
    "\n",
    "# 使用SVD將將原本的稀疏向量轉變為稠密向量\n",
    "print(f'hello in co-occurrence matrix: {co_matrix[0]}')\n",
    "print(f\"hello in PPMI: {M[0]}\")\n",
    "print(f\"hello in SVD: {U[0]}\")"
   ]
  }
 ],
 "metadata": {
  "kernelspec": {
   "display_name": "Python 3",
   "language": "python",
   "name": "python3"
  },
  "language_info": {
   "codemirror_mode": {
    "name": "ipython",
    "version": 3
   },
   "file_extension": ".py",
   "mimetype": "text/x-python",
   "name": "python",
   "nbconvert_exporter": "python",
   "pygments_lexer": "ipython3",
   "version": "3.7.0"
  }
 },
 "nbformat": 4,
 "nbformat_minor": 2
}
